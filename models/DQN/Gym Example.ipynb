{
 "cells": [
  {
   "cell_type": "code",
   "execution_count": 1,
   "source": [
    "import gym\r\n",
    "import random"
   ],
   "outputs": [],
   "metadata": {}
  },
  {
   "cell_type": "code",
   "execution_count": 2,
   "source": [
    "env_name = \"CartPole-v1\"\r\n",
    "env = gym.make(env_name)\r\n",
    "print(\"Observation space:\", env.observation_space)\r\n",
    "print(\"Action space:\", env.action_space)"
   ],
   "outputs": [
    {
     "output_type": "stream",
     "name": "stdout",
     "text": [
      "Observation space: Box(-3.4028234663852886e+38, 3.4028234663852886e+38, (4,), float32)\n",
      "Action space: Discrete(2)\n"
     ]
    }
   ],
   "metadata": {}
  },
  {
   "cell_type": "code",
   "execution_count": 3,
   "source": [
    "class Agent():\r\n",
    "    def __init__(self, env):\r\n",
    "        self.action_size = env.action_space.n\r\n",
    "        print(\"Action size:\", self.action_size)\r\n",
    "        \r\n",
    "    def get_action(self, state):\r\n",
    "        pole_angle = state[2]\r\n",
    "#         action = random.choice(range(self.action_size))\r\n",
    "        action = 0 if pole_angle < 0 else 1\r\n",
    "        return action"
   ],
   "outputs": [],
   "metadata": {}
  },
  {
   "cell_type": "code",
   "execution_count": 10,
   "source": [
    "agent = Agent(env)\r\n",
    "state = env.reset()\r\n",
    "\r\n",
    "for _ in range(200):\r\n",
    "#     action = env.action_space.sample()\r\n",
    "    action = agent.get_action(state)\r\n",
    "    state, reward, done, info = env.step(action)\r\n",
    "    env.render()\r\n",
    "    \r\n",
    "    if done:\r\n",
    "        break\r\n",
    "        \r\n",
    "env.close()"
   ],
   "outputs": [
    {
     "output_type": "stream",
     "name": "stdout",
     "text": [
      "Action size: 2\n"
     ]
    }
   ],
   "metadata": {}
  },
  {
   "cell_type": "code",
   "execution_count": null,
   "source": [],
   "outputs": [],
   "metadata": {}
  }
 ],
 "metadata": {
  "kernelspec": {
   "display_name": "Python 3 (ipykernel)",
   "language": "python",
   "name": "python3"
  },
  "language_info": {
   "codemirror_mode": {
    "name": "ipython",
    "version": 3
   },
   "file_extension": ".py",
   "mimetype": "text/x-python",
   "name": "python",
   "nbconvert_exporter": "python",
   "pygments_lexer": "ipython3",
   "version": "3.9.6"
  }
 },
 "nbformat": 4,
 "nbformat_minor": 5
}